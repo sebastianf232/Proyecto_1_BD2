{
 "cells": [
  {
   "cell_type": "markdown",
   "metadata": {},
   "source": [
    "# Relaciones"
   ]
  },
  {
   "cell_type": "code",
   "execution_count": 22,
   "metadata": {},
   "outputs": [],
   "source": [
    "#conexiones a aura\n",
    "from neo4j import GraphDatabase\n",
    "uri = \"neo4j+ssc://5fb4d30f.databases.neo4j.io\"\n",
    "auth= (\"neo4j\", \"8zCnpPpgQmkE8vEsazT7nPT8y4DWHvZ9dq0aPaD5qVc\")\n"
   ]
  },
  {
   "cell_type": "code",
   "execution_count": 19,
   "metadata": {},
   "outputs": [],
   "source": [
    "with GraphDatabase.driver(URI, auth=AUTH) as driver:\n",
    "    driver.verify_connectivity()"
   ]
  },
  {
   "cell_type": "code",
   "execution_count": 23,
   "metadata": {},
   "outputs": [],
   "source": [
    "def crear_relaciones(uri, auth, relationship_type, properties_keys):\n",
    "\n",
    "    empty_properties = {key: \"\" if isinstance(key, str) else 0 for key in properties_keys} #cre\n",
    "\n",
    "    query = f\"\"\"\n",
    "    MATCH ()-[r:{relationship_type}]->()\n",
    "    SET r += $empty_properties\n",
    "    RETURN COUNT(r) AS total_updated\n",
    "    \"\"\"\n",
    "\n",
    "    with GraphDatabase.driver(uri, auth=auth) as driver:\n",
    "        with driver.session() as session:\n",
    "            result = session.run(query, empty_properties=empty_properties)\n",
    "            return result.single()[\"total_updated\"]"
   ]
  },
  {
   "cell_type": "code",
   "execution_count": 24,
   "metadata": {},
   "outputs": [
    {
     "name": "stdout",
     "output_type": "stream",
     "text": [
      "Se actualizaron {total} relaciones {relacion} con nuevas propiedades vacías\n"
     ]
    }
   ],
   "source": [
    "# Propiedades para ACTED_IN\n",
    "properties_keys = [\"Role\", \"ScreenTime\", \"CharacterImportance\"]\n",
    "relacion = \"ACTED_IN\"\n",
    "total = crear_relaciones(uri, auth, relacion, properties_keys)\n"
   ]
  },
  {
   "cell_type": "code",
   "execution_count": 25,
   "metadata": {},
   "outputs": [
    {
     "name": "stdout",
     "output_type": "stream",
     "text": [
      "Se actualizaron 62841 relaciones ACTED_IN con nuevas propiedades vacías\n"
     ]
    }
   ],
   "source": [
    "print(f\"Se actualizaron {total} relaciones {relacion} con nuevas propiedades vacías\")"
   ]
  },
  {
   "cell_type": "code",
   "execution_count": 26,
   "metadata": {},
   "outputs": [
    {
     "name": "stdout",
     "output_type": "stream",
     "text": [
      "Se actualizaron 4669 relaciones DIRECTED con nuevas propiedades vacías\n"
     ]
    }
   ],
   "source": [
    "#propiedades para DIRECTED\n",
    "properties_keys = [\"Year\", \"AwardNominated\", \"FilmFestival\"]\n",
    "relacion = \"DIRECTED\"\n",
    "total = crear_relaciones(uri, auth, relacion, properties_keys)\n",
    "print(f\"Se actualizaron {total} relaciones {relacion} con nuevas propiedades vacías\")"
   ]
  },
  {
   "cell_type": "code",
   "execution_count": 27,
   "metadata": {},
   "outputs": [
    {
     "name": "stdout",
     "output_type": "stream",
     "text": [
      "Se actualizaron 4669 relaciones DIRECTED_BY con nuevas propiedades vacías\n"
     ]
    }
   ],
   "source": [
    "#Prpiedades para directed by\n",
    "properties_keys = [\"Year\", \"AwardNominated\", \"FilmFestival\"]\n",
    "relacion = \"DIRECTED_BY\"\n",
    "total = crear_relaciones(uri, auth, relacion, properties_keys)\n",
    "print(f\"Se actualizaron {total} relaciones {relacion} con nuevas propiedades vacías\")"
   ]
  },
  {
   "cell_type": "code",
   "execution_count": 29,
   "metadata": {},
   "outputs": [
    {
     "name": "stdout",
     "output_type": "stream",
     "text": [
      "Se actualizaron 49350 relaciones FILMED_IN con nuevas propiedades vacías\n"
     ]
    }
   ],
   "source": [
    "#Prpiedades para FILMED_IN\n",
    "properties_keys = [\"City\", \"Days\", \"Year\"]\n",
    "relacion = \"FILMED_IN\"\n",
    "total = crear_relaciones(uri, auth, relacion, properties_keys)\n",
    "print(f\"Se actualizaron {total} relaciones {relacion} con nuevas propiedades vacías\")"
   ]
  },
  {
   "cell_type": "code",
   "execution_count": 30,
   "metadata": {},
   "outputs": [
    {
     "name": "stdout",
     "output_type": "stream",
     "text": [
      "Se actualizaron 2026 relaciones IS_FRIENDS_WITH con nuevas propiedades vacías\n"
     ]
    }
   ],
   "source": [
    "#Prpiedades para IS FRIENDS WITH\n",
    "properties_keys = [\"Since\", \"CommonInterests\", \"FrequenciaInteraccion\"]\n",
    "relacion = \"IS_FRIENDS_WITH\"\n",
    "total = crear_relaciones(uri, auth, relacion, properties_keys)\n",
    "print(f\"Se actualizaron {total} relaciones {relacion} con nuevas propiedades vacías\")"
   ]
  },
  {
   "cell_type": "code",
   "execution_count": 31,
   "metadata": {},
   "outputs": [
    {
     "name": "stdout",
     "output_type": "stream",
     "text": [
      "Se actualizaron 91015 relaciones IS_TYPE con nuevas propiedades vacías\n"
     ]
    }
   ],
   "source": [
    "#Prpiedades para IS TYPE\n",
    "properties_keys = [\"CommunityRating\", \"ReviewText\", \"MatchAccuracy\"]\n",
    "relacion = \"IS_TYPE\"\n",
    "total = crear_relaciones(uri, auth, relacion, properties_keys)\n",
    "print(f\"Se actualizaron {total} relaciones {relacion} con nuevas propiedades vacías\")"
   ]
  },
  {
   "cell_type": "code",
   "execution_count": 32,
   "metadata": {},
   "outputs": [
    {
     "name": "stdout",
     "output_type": "stream",
     "text": [
      "Se actualizaron 34853 relaciones OPERATES_IN con nuevas propiedades vacías\n"
     ]
    }
   ],
   "source": [
    "#Prpiedades para OPERATS IN\n",
    "properties_keys = [\"Marketshare\", \"EmployeeCount\", \"YearsEstablished\"]\n",
    "relacion = \"OPERATES_IN\"\n",
    "total = crear_relaciones(uri, auth, relacion, properties_keys)\n",
    "print(f\"Se actualizaron {total} relaciones {relacion} con nuevas propiedades vacías\")"
   ]
  },
  {
   "cell_type": "code",
   "execution_count": 33,
   "metadata": {},
   "outputs": [
    {
     "name": "stdout",
     "output_type": "stream",
     "text": [
      "Se actualizaron 4 relaciones PRODUCED_BY con nuevas propiedades vacías\n"
     ]
    }
   ],
   "source": [
    "#Prpiedades para PRODUCED BY\n",
    "properties_keys = [\"Budget\", \"BoxOffice\", \"Reception\"]\n",
    "relacion = \"PRODUCED_BY\"\n",
    "total = crear_relaciones(uri, auth, relacion, properties_keys)\n",
    "print(f\"Se actualizaron {total} relaciones {relacion} con nuevas propiedades vacías\")"
   ]
  },
  {
   "cell_type": "code",
   "execution_count": 34,
   "metadata": {},
   "outputs": [
    {
     "name": "stdout",
     "output_type": "stream",
     "text": [
      "Se actualizaron 2514 relaciones RATED con nuevas propiedades vacías\n"
     ]
    }
   ],
   "source": [
    "#Prpiedades para RATED\n",
    "properties_keys = [\"Ratingvalue\", \"RatingDate\", \"ReviewText\"]\n",
    "relacion = \"RATED\"\n",
    "total = crear_relaciones(uri, auth, relacion, properties_keys)\n",
    "print(f\"Se actualizaron {total} relaciones {relacion} con nuevas propiedades vacías\")"
   ]
  },
  {
   "cell_type": "code",
   "execution_count": 35,
   "metadata": {},
   "outputs": [
    {
     "name": "stdout",
     "output_type": "stream",
     "text": [
      "Se actualizaron 2514 relaciones WAS_RECOMMENDED_BY con nuevas propiedades vacías\n"
     ]
    }
   ],
   "source": [
    "#Prpiedades para RECOMMENDED_BY\n",
    "properties_keys = [\"Ratingvalue\", \"RatingDate\", \"ReviewText\"]\n",
    "relacion = \"WAS_RECOMMENDED_BY\"\n",
    "total = crear_relaciones(uri, auth, relacion, properties_keys)\n",
    "print(f\"Se actualizaron {total} relaciones {relacion} con nuevas propiedades vacías\")"
   ]
  },
  {
   "cell_type": "markdown",
   "metadata": {},
   "source": [
    "## Recomendador"
   ]
  },
  {
   "cell_type": "code",
   "execution_count": 39,
   "metadata": {},
   "outputs": [
    {
     "name": "stdout",
     "output_type": "stream",
     "text": [
      "BIENVENIDO AL RECOMENDADOR DE PELICULAS\n",
      "Ingresa tus gustos y preferencias a continuación:\n"
     ]
    },
    {
     "name": "stdin",
     "output_type": "stream",
     "text": [
      "Ingresa los géneros que te gustan, separados por comas:  Comedy\n",
      "Ingresa la fecha de estreno que prefieres (formato YYYY-MM-DD):  1995-12-10\n",
      "Ingresa la duración mínima que prefieres para la película (en minutos):  90\n",
      "Ingresa palabras clave relacionadas con la película, separadas por comas:  friends\n",
      "Ingresa el estudio de cine que prefieres:  Pixar\n",
      "Ingresa el nombre del director que te gustaría ver:  \n",
      "Ingresa los nombres de los actores que te gustan, separados por comas:  \n"
     ]
    },
    {
     "ename": "CypherSyntaxError",
     "evalue": "{code: Neo.ClientError.Statement.SyntaxError} {message: Invalid use of aggregating function collect(...) in this context (line 10, column 22 (offset: 454))\n\"        any(actor IN collect(a.Name) WHERE actor IN $actors)\"\n                      ^}",
     "output_type": "error",
     "traceback": [
      "\u001b[31m---------------------------------------------------------------------------\u001b[39m",
      "\u001b[31mCypherSyntaxError\u001b[39m                         Traceback (most recent call last)",
      "\u001b[36mCell\u001b[39m\u001b[36m \u001b[39m\u001b[32mIn[39]\u001b[39m\u001b[32m, line 103\u001b[39m\n\u001b[32m    100\u001b[39m genero, released, duracion, keywords, studio, director, actors = inputs\n\u001b[32m    102\u001b[39m \u001b[38;5;66;03m# Obtener recomendaciones\u001b[39;00m\n\u001b[32m--> \u001b[39m\u001b[32m103\u001b[39m recommendations = \u001b[43mget_movie_recommendations\u001b[49m\u001b[43m(\u001b[49m\u001b[43mdriver\u001b[49m\u001b[43m,\u001b[49m\u001b[43m \u001b[49m\u001b[43m*\u001b[49m\u001b[43minputs\u001b[49m\u001b[43m)\u001b[49m\n\u001b[32m    105\u001b[39m \u001b[38;5;66;03m#Imprimir recomendaciones\u001b[39;00m\n\u001b[32m    106\u001b[39m \u001b[38;5;28;01mfor\u001b[39;00m movie \u001b[38;5;129;01min\u001b[39;00m recommendations:\n",
      "\u001b[36mCell\u001b[39m\u001b[36m \u001b[39m\u001b[32mIn[39]\u001b[39m\u001b[32m, line 77\u001b[39m, in \u001b[36mget_movie_recommendations\u001b[39m\u001b[34m(driver, genero, released, duracion, keywords, studio, director, actors)\u001b[39m\n\u001b[32m     62\u001b[39m query = \u001b[33m\"\"\"\u001b[39m\n\u001b[32m     63\u001b[39m \u001b[33mMATCH (m:Movie)<-[:ACTED_IN]-(a:Actor), (m)-[:IS_TYPE]->(g:Genre), (m)<-[:DIRECTED_BY]-(d:Director), (m)<-[:PRODUCED_BY]-(c:Company)\u001b[39m\n\u001b[32m     64\u001b[39m \u001b[33mWHERE \u001b[39m\n\u001b[32m   (...)\u001b[39m\u001b[32m     73\u001b[39m \u001b[33mLIMIT 10\u001b[39m\n\u001b[32m     74\u001b[39m \u001b[33m\u001b[39m\u001b[33m\"\"\"\u001b[39m\n\u001b[32m     76\u001b[39m \u001b[38;5;28;01mwith\u001b[39;00m driver.session() \u001b[38;5;28;01mas\u001b[39;00m session:\n\u001b[32m---> \u001b[39m\u001b[32m77\u001b[39m     result = \u001b[43msession\u001b[49m\u001b[43m.\u001b[49m\u001b[43mrun\u001b[49m\u001b[43m(\u001b[49m\u001b[43mquery\u001b[49m\u001b[43m,\u001b[49m\u001b[43m \u001b[49m\u001b[43m{\u001b[49m\n\u001b[32m     78\u001b[39m \u001b[43m        \u001b[49m\u001b[33;43m'\u001b[39;49m\u001b[33;43mgenres\u001b[39;49m\u001b[33;43m'\u001b[39;49m\u001b[43m:\u001b[49m\u001b[43m \u001b[49m\u001b[43mgenero\u001b[49m\u001b[43m,\u001b[49m\n\u001b[32m     79\u001b[39m \u001b[43m        \u001b[49m\u001b[33;43m'\u001b[39;49m\u001b[33;43mminYear\u001b[39;49m\u001b[33;43m'\u001b[39;49m\u001b[43m:\u001b[49m\u001b[43m \u001b[49m\u001b[43mmin_year\u001b[49m\u001b[43m,\u001b[49m\n\u001b[32m     80\u001b[39m \u001b[43m        \u001b[49m\u001b[33;43m'\u001b[39;49m\u001b[33;43mmaxYear\u001b[39;49m\u001b[33;43m'\u001b[39;49m\u001b[43m:\u001b[49m\u001b[43m \u001b[49m\u001b[43mmax_year\u001b[49m\u001b[43m,\u001b[49m\n\u001b[32m     81\u001b[39m \u001b[43m        \u001b[49m\u001b[33;43m'\u001b[39;49m\u001b[33;43mminRuntime\u001b[39;49m\u001b[33;43m'\u001b[39;49m\u001b[43m:\u001b[49m\u001b[43m \u001b[49m\u001b[43mmin_runtime\u001b[49m\u001b[43m,\u001b[49m\n\u001b[32m     82\u001b[39m \u001b[43m        \u001b[49m\u001b[33;43m'\u001b[39;49m\u001b[33;43mmaxRuntime\u001b[39;49m\u001b[33;43m'\u001b[39;49m\u001b[43m:\u001b[49m\u001b[43m \u001b[49m\u001b[43mmax_runtime\u001b[49m\u001b[43m,\u001b[49m\n\u001b[32m     83\u001b[39m \u001b[43m        \u001b[49m\u001b[33;43m'\u001b[39;49m\u001b[33;43mkeywords\u001b[39;49m\u001b[33;43m'\u001b[39;49m\u001b[43m:\u001b[49m\u001b[43m \u001b[49m\u001b[43mkeywords\u001b[49m\u001b[43m,\u001b[49m\n\u001b[32m     84\u001b[39m \u001b[43m        \u001b[49m\u001b[33;43m'\u001b[39;49m\u001b[33;43mstudio\u001b[39;49m\u001b[33;43m'\u001b[39;49m\u001b[43m:\u001b[49m\u001b[43m \u001b[49m\u001b[43mstudio\u001b[49m\u001b[43m,\u001b[49m\n\u001b[32m     85\u001b[39m \u001b[43m        \u001b[49m\u001b[33;43m'\u001b[39;49m\u001b[33;43mdirector\u001b[39;49m\u001b[33;43m'\u001b[39;49m\u001b[43m:\u001b[49m\u001b[43m \u001b[49m\u001b[43mdirector\u001b[49m\u001b[43m,\u001b[49m\n\u001b[32m     86\u001b[39m \u001b[43m        \u001b[49m\u001b[33;43m'\u001b[39;49m\u001b[33;43mactors\u001b[39;49m\u001b[33;43m'\u001b[39;49m\u001b[43m:\u001b[49m\u001b[43m \u001b[49m\u001b[43mactors\u001b[49m\n\u001b[32m     87\u001b[39m \u001b[43m    \u001b[49m\u001b[43m}\u001b[49m\u001b[43m)\u001b[49m\n\u001b[32m     88\u001b[39m     \u001b[38;5;28;01mreturn\u001b[39;00m \u001b[38;5;28mlist\u001b[39m(result)\n",
      "\u001b[36mFile \u001b[39m\u001b[32m/Library/Frameworks/Python.framework/Versions/3.13/lib/python3.13/site-packages/neo4j/_sync/work/session.py:328\u001b[39m, in \u001b[36mSession.run\u001b[39m\u001b[34m(self, query, parameters, **kwargs)\u001b[39m\n\u001b[32m    326\u001b[39m bookmarks = \u001b[38;5;28mself\u001b[39m._get_bookmarks()\n\u001b[32m    327\u001b[39m parameters = \u001b[38;5;28mdict\u001b[39m(parameters \u001b[38;5;129;01mor\u001b[39;00m {}, **kwargs)\n\u001b[32m--> \u001b[39m\u001b[32m328\u001b[39m \u001b[38;5;28;43mself\u001b[39;49m\u001b[43m.\u001b[49m\u001b[43m_auto_result\u001b[49m\u001b[43m.\u001b[49m\u001b[43m_run\u001b[49m\u001b[43m(\u001b[49m\n\u001b[32m    329\u001b[39m \u001b[43m    \u001b[49m\u001b[43mquery\u001b[49m\u001b[43m,\u001b[49m\n\u001b[32m    330\u001b[39m \u001b[43m    \u001b[49m\u001b[43mparameters\u001b[49m\u001b[43m,\u001b[49m\n\u001b[32m    331\u001b[39m \u001b[43m    \u001b[49m\u001b[38;5;28;43mself\u001b[39;49m\u001b[43m.\u001b[49m\u001b[43m_config\u001b[49m\u001b[43m.\u001b[49m\u001b[43mdatabase\u001b[49m\u001b[43m,\u001b[49m\n\u001b[32m    332\u001b[39m \u001b[43m    \u001b[49m\u001b[38;5;28;43mself\u001b[39;49m\u001b[43m.\u001b[49m\u001b[43m_config\u001b[49m\u001b[43m.\u001b[49m\u001b[43mimpersonated_user\u001b[49m\u001b[43m,\u001b[49m\n\u001b[32m    333\u001b[39m \u001b[43m    \u001b[49m\u001b[38;5;28;43mself\u001b[39;49m\u001b[43m.\u001b[49m\u001b[43m_config\u001b[49m\u001b[43m.\u001b[49m\u001b[43mdefault_access_mode\u001b[49m\u001b[43m,\u001b[49m\n\u001b[32m    334\u001b[39m \u001b[43m    \u001b[49m\u001b[43mbookmarks\u001b[49m\u001b[43m,\u001b[49m\n\u001b[32m    335\u001b[39m \u001b[43m    \u001b[49m\u001b[38;5;28;43mself\u001b[39;49m\u001b[43m.\u001b[49m\u001b[43m_config\u001b[49m\u001b[43m.\u001b[49m\u001b[43mnotifications_min_severity\u001b[49m\u001b[43m,\u001b[49m\n\u001b[32m    336\u001b[39m \u001b[43m    \u001b[49m\u001b[38;5;28;43mself\u001b[39;49m\u001b[43m.\u001b[49m\u001b[43m_config\u001b[49m\u001b[43m.\u001b[49m\u001b[43mnotifications_disabled_classifications\u001b[49m\u001b[43m,\u001b[49m\n\u001b[32m    337\u001b[39m \u001b[43m\u001b[49m\u001b[43m)\u001b[49m\n\u001b[32m    339\u001b[39m \u001b[38;5;28;01mreturn\u001b[39;00m \u001b[38;5;28mself\u001b[39m._auto_result\n",
      "\u001b[36mFile \u001b[39m\u001b[32m/Library/Frameworks/Python.framework/Versions/3.13/lib/python3.13/site-packages/neo4j/_sync/work/result.py:236\u001b[39m, in \u001b[36mResult._run\u001b[39m\u001b[34m(self, query, parameters, db, imp_user, access_mode, bookmarks, notifications_min_severity, notifications_disabled_classifications)\u001b[39m\n\u001b[32m    234\u001b[39m \u001b[38;5;28mself\u001b[39m._pull()\n\u001b[32m    235\u001b[39m \u001b[38;5;28mself\u001b[39m._connection.send_all()\n\u001b[32m--> \u001b[39m\u001b[32m236\u001b[39m \u001b[38;5;28;43mself\u001b[39;49m\u001b[43m.\u001b[49m\u001b[43m_attach\u001b[49m\u001b[43m(\u001b[49m\u001b[43m)\u001b[49m\n",
      "\u001b[36mFile \u001b[39m\u001b[32m/Library/Frameworks/Python.framework/Versions/3.13/lib/python3.13/site-packages/neo4j/_sync/work/result.py:430\u001b[39m, in \u001b[36mResult._attach\u001b[39m\u001b[34m(self)\u001b[39m\n\u001b[32m    428\u001b[39m \u001b[38;5;28;01mif\u001b[39;00m \u001b[38;5;28mself\u001b[39m._exhausted \u001b[38;5;129;01mis\u001b[39;00m \u001b[38;5;28;01mFalse\u001b[39;00m:\n\u001b[32m    429\u001b[39m     \u001b[38;5;28;01mwhile\u001b[39;00m \u001b[38;5;28mself\u001b[39m._attached \u001b[38;5;129;01mis\u001b[39;00m \u001b[38;5;28;01mFalse\u001b[39;00m:\n\u001b[32m--> \u001b[39m\u001b[32m430\u001b[39m         \u001b[38;5;28;43mself\u001b[39;49m\u001b[43m.\u001b[49m\u001b[43m_connection\u001b[49m\u001b[43m.\u001b[49m\u001b[43mfetch_message\u001b[49m\u001b[43m(\u001b[49m\u001b[43m)\u001b[49m\n",
      "\u001b[36mFile \u001b[39m\u001b[32m/Library/Frameworks/Python.framework/Versions/3.13/lib/python3.13/site-packages/neo4j/_sync/io/_common.py:184\u001b[39m, in \u001b[36mConnectionErrorHandler.__getattr__.<locals>.outer.<locals>.inner\u001b[39m\u001b[34m(*args, **kwargs)\u001b[39m\n\u001b[32m    182\u001b[39m \u001b[38;5;28;01mdef\u001b[39;00m\u001b[38;5;250m \u001b[39m\u001b[34minner\u001b[39m(*args, **kwargs):\n\u001b[32m    183\u001b[39m     \u001b[38;5;28;01mtry\u001b[39;00m:\n\u001b[32m--> \u001b[39m\u001b[32m184\u001b[39m         \u001b[43mfunc\u001b[49m\u001b[43m(\u001b[49m\u001b[43m*\u001b[49m\u001b[43margs\u001b[49m\u001b[43m,\u001b[49m\u001b[43m \u001b[49m\u001b[43m*\u001b[49m\u001b[43m*\u001b[49m\u001b[43mkwargs\u001b[49m\u001b[43m)\u001b[49m\n\u001b[32m    185\u001b[39m     \u001b[38;5;28;01mexcept\u001b[39;00m (Neo4jError, ServiceUnavailable, SessionExpired) \u001b[38;5;28;01mas\u001b[39;00m exc:\n\u001b[32m    186\u001b[39m         \u001b[38;5;28;01massert\u001b[39;00m \u001b[38;5;129;01mnot\u001b[39;00m asyncio.iscoroutinefunction(\u001b[38;5;28mself\u001b[39m.__on_error)\n",
      "\u001b[36mFile \u001b[39m\u001b[32m/Library/Frameworks/Python.framework/Versions/3.13/lib/python3.13/site-packages/neo4j/_sync/io/_bolt.py:864\u001b[39m, in \u001b[36mBolt.fetch_message\u001b[39m\u001b[34m(self)\u001b[39m\n\u001b[32m    860\u001b[39m \u001b[38;5;66;03m# Receive exactly one message\u001b[39;00m\n\u001b[32m    861\u001b[39m tag, fields = \u001b[38;5;28mself\u001b[39m.inbox.pop(\n\u001b[32m    862\u001b[39m     hydration_hooks=\u001b[38;5;28mself\u001b[39m.responses[\u001b[32m0\u001b[39m].hydration_hooks\n\u001b[32m    863\u001b[39m )\n\u001b[32m--> \u001b[39m\u001b[32m864\u001b[39m res = \u001b[38;5;28;43mself\u001b[39;49m\u001b[43m.\u001b[49m\u001b[43m_process_message\u001b[49m\u001b[43m(\u001b[49m\u001b[43mtag\u001b[49m\u001b[43m,\u001b[49m\u001b[43m \u001b[49m\u001b[43mfields\u001b[49m\u001b[43m)\u001b[49m\n\u001b[32m    865\u001b[39m \u001b[38;5;28mself\u001b[39m.idle_since = monotonic()\n\u001b[32m    866\u001b[39m \u001b[38;5;28;01mreturn\u001b[39;00m res\n",
      "\u001b[36mFile \u001b[39m\u001b[32m/Library/Frameworks/Python.framework/Versions/3.13/lib/python3.13/site-packages/neo4j/_sync/io/_bolt5.py:1208\u001b[39m, in \u001b[36mBolt5x7._process_message\u001b[39m\u001b[34m(self, tag, fields)\u001b[39m\n\u001b[32m   1206\u001b[39m \u001b[38;5;28mself\u001b[39m._enrich_error_diagnostic_record(summary_metadata)\n\u001b[32m   1207\u001b[39m \u001b[38;5;28;01mtry\u001b[39;00m:\n\u001b[32m-> \u001b[39m\u001b[32m1208\u001b[39m     \u001b[43mresponse\u001b[49m\u001b[43m.\u001b[49m\u001b[43mon_failure\u001b[49m\u001b[43m(\u001b[49m\u001b[43msummary_metadata\u001b[49m\u001b[43m \u001b[49m\u001b[38;5;129;43;01mor\u001b[39;49;00m\u001b[43m \u001b[49m\u001b[43m{\u001b[49m\u001b[43m}\u001b[49m\u001b[43m)\u001b[49m\n\u001b[32m   1209\u001b[39m \u001b[38;5;28;01mexcept\u001b[39;00m (ServiceUnavailable, DatabaseUnavailable):\n\u001b[32m   1210\u001b[39m     \u001b[38;5;28;01mif\u001b[39;00m \u001b[38;5;28mself\u001b[39m.pool:\n",
      "\u001b[36mFile \u001b[39m\u001b[32m/Library/Frameworks/Python.framework/Versions/3.13/lib/python3.13/site-packages/neo4j/_sync/io/_common.py:254\u001b[39m, in \u001b[36mResponse.on_failure\u001b[39m\u001b[34m(self, metadata)\u001b[39m\n\u001b[32m    252\u001b[39m handler = \u001b[38;5;28mself\u001b[39m.handlers.get(\u001b[33m\"\u001b[39m\u001b[33mon_summary\u001b[39m\u001b[33m\"\u001b[39m)\n\u001b[32m    253\u001b[39m Util.callback(handler)\n\u001b[32m--> \u001b[39m\u001b[32m254\u001b[39m \u001b[38;5;28;01mraise\u001b[39;00m \u001b[38;5;28mself\u001b[39m._hydrate_error(metadata)\n",
      "\u001b[31mCypherSyntaxError\u001b[39m: {code: Neo.ClientError.Statement.SyntaxError} {message: Invalid use of aggregating function collect(...) in this context (line 10, column 22 (offset: 454))\n\"        any(actor IN collect(a.Name) WHERE actor IN $actors)\"\n                      ^}"
     ]
    }
   ],
   "source": [
    "import datetime\n",
    "def menu():\n",
    "    print(\"BIENVENIDO AL RECOMENDADOR DE PELICULAS\")\n",
    "    print(\"Ingresa tus gustos y preferencias a continuación:\")\n",
    "\n",
    "\n",
    "def validar_fecha(fecha_texto):\n",
    "    try:\n",
    "        datetime.datetime.strptime(fecha_texto, \"%Y-%m-%d\")\n",
    "        return True\n",
    "    except ValueError:\n",
    "        return False\n",
    "\n",
    "def procesar_entrada_lista(entrada, capitalizar=False):\n",
    "    lista = entrada.split(',')\n",
    "    if capitalizar:\n",
    "        # Capitalizar la primera letra de cada palabra en cada elemento de la lista.\n",
    "        return [item.strip().title() for item in lista]\n",
    "    else:\n",
    "        return [item.strip() for item in lista]\n",
    "\n",
    "def variables_recomendacion():\n",
    "    genero = procesar_entrada_lista(input(\"Ingresa los géneros que te gustan, separados por comas: \"), True)\n",
    "    \n",
    "    while True:\n",
    "        released = input(\"Ingresa la fecha de estreno que prefieres (formato YYYY-MM-DD): \").strip()\n",
    "        if validar_fecha(released):\n",
    "            break\n",
    "        print(\"Formato de fecha incorrecto, por favor intenta de nuevo.\")\n",
    "    \n",
    "    while True:\n",
    "        duracion = input(\"Ingresa la duración mínima que prefieres para la película (en minutos): \").strip()\n",
    "        if duracion.isdigit():\n",
    "            duracion = int(duracion)\n",
    "            break\n",
    "        print(\"Por favor ingresa un número válido.\")\n",
    "    \n",
    "    keywords = procesar_entrada_lista(input(\"Ingresa palabras clave relacionadas con la película, separadas por comas: \"))\n",
    "    studio = input(\"Ingresa el estudio de cine que prefieres: \").strip().title()\n",
    "    director = input(\"Ingresa el nombre del director que te gustaría ver: \").strip().title()\n",
    "    actors = procesar_entrada_lista(input(\"Ingresa los nombres de los actores que te gustan, separados por comas: \"), True)\n",
    "\n",
    "    return genero, released, duracion, keywords, studio, director, actors\n",
    "\n",
    "\n",
    "#############################################\n",
    "\n",
    "def neo4j_connect(uri, auth):\n",
    "    driver = GraphDatabase.driver(uri, auth=auth)\n",
    "    return driver\n",
    "\n",
    "def get_movie_recommendations(driver, genero, released, duracion, keywords, studio, director, actors):\n",
    "    # Ajustar el rango de fecha\n",
    "    year = int(released.split(\"-\")[0])\n",
    "    min_year = year - 5\n",
    "    max_year = year + 5\n",
    "    \n",
    "    # Ajustar el rango de duración\n",
    "    min_runtime = duracion - 30\n",
    "    max_runtime = duracion + 30\n",
    "    \n",
    "    query = \"\"\"\n",
    "    MATCH (m:Movie)<-[:ACTED_IN]-(a:Actor), (m)-[:IS_TYPE]->(g:Genre), (m)<-[:DIRECTED_BY]-(d:Director), (m)<-[:PRODUCED_BY]-(c:Company)\n",
    "    WHERE \n",
    "        g.Name IN $genres AND\n",
    "        m.Released >= $minYear AND m.Released <= $maxYear AND\n",
    "        m.runtime >= $minRuntime AND m.runtime <= $maxRuntime AND\n",
    "        any(keyword IN m.keywords WHERE keyword IN $keywords) AND\n",
    "        c.Name = $studio AND\n",
    "        d.name = $director AND\n",
    "        any(actor IN collect(a.Name) WHERE actor IN $actors)\n",
    "    RETURN m.title AS Title, m.Released AS Released, m.runtime AS Runtime\n",
    "    LIMIT 10\n",
    "    \"\"\"\n",
    "    \n",
    "    with driver.session() as session:\n",
    "        result = session.run(query, {\n",
    "            'genres': genero,\n",
    "            'minYear': min_year,\n",
    "            'maxYear': max_year,\n",
    "            'minRuntime': min_runtime,\n",
    "            'maxRuntime': max_runtime,\n",
    "            'keywords': keywords,\n",
    "            'studio': studio,\n",
    "            'director': director,\n",
    "            'actors': actors\n",
    "        })\n",
    "        return list(result)\n",
    "\n",
    "# Conexión a Neo4j\n",
    "\n",
    "driver = neo4j_connect(uri, auth)\n",
    "\n",
    "################### MAIN\n",
    "\n",
    "menu()\n",
    "\n",
    "# Recoger inputs del usuario\n",
    "inputs = variables_recomendacion()\n",
    "genero, released, duracion, keywords, studio, director, actors = inputs\n",
    "\n",
    "# Obtener recomendaciones\n",
    "recommendations = get_movie_recommendations(driver, *inputs)\n",
    "\n",
    "#Imprimir recomendaciones\n",
    "for movie in recommendations:\n",
    "    print(movie['Title'], movie['Released'], movie['Runtime'])\n",
    "############################################\n",
    "\n"
   ]
  },
  {
   "cell_type": "code",
   "execution_count": null,
   "metadata": {},
   "outputs": [],
   "source": []
  }
 ],
 "metadata": {
  "kernelspec": {
   "display_name": "Python 3 (ipykernel)",
   "language": "python",
   "name": "python3"
  },
  "language_info": {
   "codemirror_mode": {
    "name": "ipython",
    "version": 3
   },
   "file_extension": ".py",
   "mimetype": "text/x-python",
   "name": "python",
   "nbconvert_exporter": "python",
   "pygments_lexer": "ipython3",
   "version": "3.13.2"
  }
 },
 "nbformat": 4,
 "nbformat_minor": 4
}
