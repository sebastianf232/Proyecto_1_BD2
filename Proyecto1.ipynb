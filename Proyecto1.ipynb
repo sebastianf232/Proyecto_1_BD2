{
 "cells": [
  {
   "cell_type": "markdown",
   "metadata": {},
   "source": [
    "# Relaciones"
   ]
  },
  {
   "cell_type": "code",
   "execution_count": 22,
   "metadata": {},
   "outputs": [],
   "source": [
    "#conexiones a aura\n",
    "from neo4j import GraphDatabase\n",
    "uri = \"neo4j+ssc://5fb4d30f.databases.neo4j.io\"\n",
    "auth= (\"neo4j\", \"8zCnpPpgQmkE8vEsazT7nPT8y4DWHvZ9dq0aPaD5qVc\")\n"
   ]
  },
  {
   "cell_type": "code",
   "execution_count": 19,
   "metadata": {},
   "outputs": [],
   "source": [
    "with GraphDatabase.driver(URI, auth=AUTH) as driver:\n",
    "    driver.verify_connectivity()"
   ]
  },
  {
   "cell_type": "code",
   "execution_count": 23,
   "metadata": {},
   "outputs": [],
   "source": [
    "def crear_relaciones(uri, auth, relationship_type, properties_keys):\n",
    "\n",
    "    empty_properties = {key: \"\" if isinstance(key, str) else 0 for key in properties_keys} #cre\n",
    "\n",
    "    query = f\"\"\"\n",
    "    MATCH ()-[r:{relationship_type}]->()\n",
    "    SET r += $empty_properties\n",
    "    RETURN COUNT(r) AS total_updated\n",
    "    \"\"\"\n",
    "\n",
    "    with GraphDatabase.driver(uri, auth=auth) as driver:\n",
    "        with driver.session() as session:\n",
    "            result = session.run(query, empty_properties=empty_properties)\n",
    "            return result.single()[\"total_updated\"]"
   ]
  },
  {
   "cell_type": "code",
   "execution_count": 24,
   "metadata": {},
   "outputs": [
    {
     "name": "stdout",
     "output_type": "stream",
     "text": [
      "Se actualizaron {total} relaciones {relacion} con nuevas propiedades vacías\n"
     ]
    }
   ],
   "source": [
    "# Propiedades para ACTED_IN\n",
    "properties_keys = [\"Role\", \"ScreenTime\", \"CharacterImportance\"]\n",
    "relacion = \"ACTED_IN\"\n",
    "total = crear_relaciones(uri, auth, relacion, properties_keys)\n"
   ]
  },
  {
   "cell_type": "code",
   "execution_count": 25,
   "metadata": {},
   "outputs": [
    {
     "name": "stdout",
     "output_type": "stream",
     "text": [
      "Se actualizaron 62841 relaciones ACTED_IN con nuevas propiedades vacías\n"
     ]
    }
   ],
   "source": [
    "print(f\"Se actualizaron {total} relaciones {relacion} con nuevas propiedades vacías\")"
   ]
  },
  {
   "cell_type": "code",
   "execution_count": 26,
   "metadata": {},
   "outputs": [
    {
     "name": "stdout",
     "output_type": "stream",
     "text": [
      "Se actualizaron 4669 relaciones DIRECTED con nuevas propiedades vacías\n"
     ]
    }
   ],
   "source": [
    "#propiedades para DIRECTED\n",
    "properties_keys = [\"Year\", \"AwardNominated\", \"FilmFestival\"]\n",
    "relacion = \"DIRECTED\"\n",
    "total = crear_relaciones(uri, auth, relacion, properties_keys)\n",
    "print(f\"Se actualizaron {total} relaciones {relacion} con nuevas propiedades vacías\")"
   ]
  },
  {
   "cell_type": "code",
   "execution_count": 27,
   "metadata": {},
   "outputs": [
    {
     "name": "stdout",
     "output_type": "stream",
     "text": [
      "Se actualizaron 4669 relaciones DIRECTED_BY con nuevas propiedades vacías\n"
     ]
    }
   ],
   "source": [
    "#Prpiedades para directed by\n",
    "properties_keys = [\"Year\", \"AwardNominated\", \"FilmFestival\"]\n",
    "relacion = \"DIRECTED_BY\"\n",
    "total = crear_relaciones(uri, auth, relacion, properties_keys)\n",
    "print(f\"Se actualizaron {total} relaciones {relacion} con nuevas propiedades vacías\")"
   ]
  },
  {
   "cell_type": "code",
   "execution_count": 29,
   "metadata": {},
   "outputs": [
    {
     "name": "stdout",
     "output_type": "stream",
     "text": [
      "Se actualizaron 49350 relaciones FILMED_IN con nuevas propiedades vacías\n"
     ]
    }
   ],
   "source": [
    "#Prpiedades para FILMED_IN\n",
    "properties_keys = [\"City\", \"Days\", \"Year\"]\n",
    "relacion = \"FILMED_IN\"\n",
    "total = crear_relaciones(uri, auth, relacion, properties_keys)\n",
    "print(f\"Se actualizaron {total} relaciones {relacion} con nuevas propiedades vacías\")"
   ]
  },
  {
   "cell_type": "code",
   "execution_count": 30,
   "metadata": {},
   "outputs": [
    {
     "name": "stdout",
     "output_type": "stream",
     "text": [
      "Se actualizaron 2026 relaciones IS_FRIENDS_WITH con nuevas propiedades vacías\n"
     ]
    }
   ],
   "source": [
    "#Prpiedades para IS FRIENDS WITH\n",
    "properties_keys = [\"Since\", \"CommonInterests\", \"FrequenciaInteraccion\"]\n",
    "relacion = \"IS_FRIENDS_WITH\"\n",
    "total = crear_relaciones(uri, auth, relacion, properties_keys)\n",
    "print(f\"Se actualizaron {total} relaciones {relacion} con nuevas propiedades vacías\")"
   ]
  },
  {
   "cell_type": "code",
   "execution_count": 31,
   "metadata": {},
   "outputs": [
    {
     "name": "stdout",
     "output_type": "stream",
     "text": [
      "Se actualizaron 91015 relaciones IS_TYPE con nuevas propiedades vacías\n"
     ]
    }
   ],
   "source": [
    "#Prpiedades para IS TYPE\n",
    "properties_keys = [\"CommunityRating\", \"ReviewText\", \"MatchAccuracy\"]\n",
    "relacion = \"IS_TYPE\"\n",
    "total = crear_relaciones(uri, auth, relacion, properties_keys)\n",
    "print(f\"Se actualizaron {total} relaciones {relacion} con nuevas propiedades vacías\")"
   ]
  },
  {
   "cell_type": "code",
   "execution_count": 32,
   "metadata": {},
   "outputs": [
    {
     "name": "stdout",
     "output_type": "stream",
     "text": [
      "Se actualizaron 34853 relaciones OPERATES_IN con nuevas propiedades vacías\n"
     ]
    }
   ],
   "source": [
    "#Prpiedades para OPERATS IN\n",
    "properties_keys = [\"Marketshare\", \"EmployeeCount\", \"YearsEstablished\"]\n",
    "relacion = \"OPERATES_IN\"\n",
    "total = crear_relaciones(uri, auth, relacion, properties_keys)\n",
    "print(f\"Se actualizaron {total} relaciones {relacion} con nuevas propiedades vacías\")"
   ]
  },
  {
   "cell_type": "code",
   "execution_count": 33,
   "metadata": {},
   "outputs": [
    {
     "name": "stdout",
     "output_type": "stream",
     "text": [
      "Se actualizaron 4 relaciones PRODUCED_BY con nuevas propiedades vacías\n"
     ]
    }
   ],
   "source": [
    "#Prpiedades para PRODUCED BY\n",
    "properties_keys = [\"Budget\", \"BoxOffice\", \"Reception\"]\n",
    "relacion = \"PRODUCED_BY\"\n",
    "total = crear_relaciones(uri, auth, relacion, properties_keys)\n",
    "print(f\"Se actualizaron {total} relaciones {relacion} con nuevas propiedades vacías\")"
   ]
  },
  {
   "cell_type": "code",
   "execution_count": 34,
   "metadata": {},
   "outputs": [
    {
     "name": "stdout",
     "output_type": "stream",
     "text": [
      "Se actualizaron 2514 relaciones RATED con nuevas propiedades vacías\n"
     ]
    }
   ],
   "source": [
    "#Prpiedades para RATED\n",
    "properties_keys = [\"Ratingvalue\", \"RatingDate\", \"ReviewText\"]\n",
    "relacion = \"RATED\"\n",
    "total = crear_relaciones(uri, auth, relacion, properties_keys)\n",
    "print(f\"Se actualizaron {total} relaciones {relacion} con nuevas propiedades vacías\")"
   ]
  },
  {
   "cell_type": "code",
   "execution_count": 35,
   "metadata": {},
   "outputs": [
    {
     "name": "stdout",
     "output_type": "stream",
     "text": [
      "Se actualizaron 2514 relaciones WAS_RECOMMENDED_BY con nuevas propiedades vacías\n"
     ]
    }
   ],
   "source": [
    "#Prpiedades para RECOMMENDED_BY\n",
    "properties_keys = [\"Ratingvalue\", \"RatingDate\", \"ReviewText\"]\n",
    "relacion = \"WAS_RECOMMENDED_BY\"\n",
    "total = crear_relaciones(uri, auth, relacion, properties_keys)\n",
    "print(f\"Se actualizaron {total} relaciones {relacion} con nuevas propiedades vacías\")"
   ]
  },
  {
   "cell_type": "markdown",
   "metadata": {},
   "source": [
    "## Recomendador"
   ]
  },
  {
   "cell_type": "code",
   "execution_count": 53,
   "metadata": {},
   "outputs": [],
   "source": [
    "driver = GraphDatabase.driver(uri, auth=auth)"
   ]
  },
  {
   "cell_type": "code",
   "execution_count": 59,
   "metadata": {},
   "outputs": [],
   "source": [
    "#verificar que exista el usuario\n",
    "def user_exists(user_id):\n",
    "    \"\"\"\n",
    "    Retorna True si existe un nodo User con la propiedad user_id = user_id,\n",
    "    False en caso contrario.\n",
    "    \"\"\"\n",
    "    query = \"\"\"\n",
    "    MATCH (u:User {UserID: $user_id})\n",
    "    RETURN count(u) AS count\n",
    "    \"\"\"\n",
    "    with driver.session() as session:\n",
    "        result = session.run(query, user_id=user_id)\n",
    "        record = result.single()\n",
    "        if record and record[\"count\"] > 0:\n",
    "            return True\n",
    "        return False"
   ]
  },
  {
   "cell_type": "code",
   "execution_count": 64,
   "metadata": {},
   "outputs": [],
   "source": [
    "def recommend_by_user(user_id, rating_threshold=3.5, top_n=10):\n",
    "    \"\"\"\n",
    "    Recomienda películas que el usuario no haya visto, pero que sus amigos\n",
    "    hayan valorado por encima de rating_threshold.\n",
    "    \"\"\"\n",
    "    # Primero, verificamos si el usuario existe\n",
    "    if not user_exists(user_id):\n",
    "        print(f\"Error: No se encontró ningún usuario con ID = {user_id}.\")\n",
    "        return []\n",
    "    \n",
    "    query = \"\"\"\n",
    "    MATCH (u:User {UserID: $user_id})-[:IS_FRIENDS_WITH]->(friend:User)-[r:RATED]->(m:Movie)\n",
    "    WHERE NOT (u)-[:RATED]->(m)\n",
    "      AND r.Rating >= $rating_threshold\n",
    "    RETURN m.Title AS title, avg(r.Rating) AS avg_rating\n",
    "    ORDER BY avg_rating DESC\n",
    "    LIMIT $top_n\n",
    "    \"\"\"\n",
    "    with driver.session() as session:\n",
    "        result = session.run(\n",
    "            query,\n",
    "            user_id=user_id,\n",
    "            rating_threshold=rating_threshold,\n",
    "            top_n=top_n\n",
    "        )\n",
    "        return [record.data() for record in result]\n"
   ]
  },
  {
   "cell_type": "code",
   "execution_count": 81,
   "metadata": {},
   "outputs": [],
   "source": [
    "# personalizado\n",
    "def search_movies(\n",
    "    genre=None,\n",
    "    year=None,\n",
    "    duration=None,\n",
    "    keywords=None,\n",
    "    company=None,\n",
    "    director=None,\n",
    "    top_n=10\n",
    "):\n",
    "    \"\"\"\n",
    "    Devuelve películas que cumplan con los criterios dados:\n",
    "      - genre: nombre del género (string)\n",
    "      - year: año ± 2 (int), extraído de la propiedad datetime 'Released'\n",
    "      - duration: duración ± 30 (int)\n",
    "      - keywords: búsqueda parcial en la propiedad 'Keywords'\n",
    "      - company: búsqueda parcial en el nombre de la compañía\n",
    "      - director: búsqueda parcial en el nombre del director\n",
    "    \"\"\"\n",
    "    base_query = \"\"\"\n",
    "    MATCH (m:Movie)\n",
    "    OPTIONAL MATCH (m)-[:IS_TYPE]->(g:Genre)\n",
    "    OPTIONAL MATCH (m)-[:PRODUCED_BY]->(c:Company)\n",
    "    OPTIONAL MATCH (m)<-[:DIRECTED]-(d:Director)\n",
    "    WHERE 1=1\n",
    "    \"\"\"\n",
    "    conditions = []\n",
    "    \n",
    "    # 1) Filtro por género exacto\n",
    "    if genre:\n",
    "        conditions.append(\"g.Name = $genre\")\n",
    "    \n",
    "    # 2) Filtro por año ± 2 utilizando la propiedad datetime 'Released'\n",
    "    if year:\n",
    "        conditions.append(\"(m.Released.year >= $yearMin AND m.Released.year <= $yearMax)\")\n",
    "    \n",
    "    # 3) Filtro por duración ± 30\n",
    "    if duration:\n",
    "        conditions.append(\"(m.Runtime >= $durationMin AND m.Runtime <= $durationMax)\")\n",
    "    \n",
    "    # 4) Filtro por keywords en la propiedad 'Keywords'\n",
    "    if keywords:\n",
    "        conditions.append(\"toLower(m.Keyword) CONTAINS toLower($keywords)\")\n",
    "    \n",
    "    # 5) Filtro por compañía (búsqueda parcial)\n",
    "    if company:\n",
    "        conditions.append(\"toLower(c.Name) CONTAINS toLower($company)\")\n",
    "    \n",
    "    # 6) Filtro por director (búsqueda parcial)\n",
    "    if director:\n",
    "        conditions.append(\"toLower(d.Name) CONTAINS toLower($director)\")\n",
    "    \n",
    "    if conditions:\n",
    "        base_query += \" AND \" + \" AND \".join(conditions)\n",
    "    \n",
    "    base_query += \"\"\"\n",
    "    RETURN DISTINCT m.Title AS title, m.Released.year AS year, m.Runtime AS duration\n",
    "    ORDER BY year DESC\n",
    "    LIMIT $top_n\n",
    "    \"\"\"\n",
    "    \n",
    "    # Parámetros para la consulta\n",
    "    params = {\n",
    "        \"genre\": genre,\n",
    "        \"keywords\": keywords,\n",
    "        \"company\": company,\n",
    "        \"director\": director,\n",
    "        \"top_n\": top_n\n",
    "    }\n",
    "    if year:\n",
    "        params[\"yearMin\"] = year - 2\n",
    "        params[\"yearMax\"] = year + 2\n",
    "    if duration:\n",
    "        params[\"durationMin\"] = duration - 30\n",
    "        params[\"durationMax\"] = duration + 30\n",
    "    \n",
    "    with driver.session() as session:\n",
    "        result = session.run(base_query, **params)\n",
    "        return [record.data() for record in result]\n"
   ]
  },
  {
   "cell_type": "code",
   "execution_count": 71,
   "metadata": {},
   "outputs": [],
   "source": [
    "def main():\n",
    "    print(\"Bienvenido al sistema de recomendación de películas.\")\n",
    "    print(\"1) Recomendación por usuario (basada en amigos).\")\n",
    "    print(\"2) Búsqueda personalizada (género, año ± 2, duración ± 30, palabras clave, compañía, director).\")\n",
    "    \n",
    "    opcion = input(\"Elige una opción (1/2): \").strip()\n",
    "    \n",
    "    if opcion == \"1\":\n",
    "        # Recomendación por usuario\n",
    "        user_id_str = input(\"Ingresa el ID del usuario: \").strip()\n",
    "        if not user_id_str.isdigit():\n",
    "            print(\"Error: El ID de usuario debe ser un número entero.\")\n",
    "            return\n",
    "        user_id = int(user_id_str)\n",
    "        \n",
    "        # Se recomienda con threshold de rating y top_n fijos, puedes modificar si quieres\n",
    "        recomendaciones = recommend_by_user(user_id, rating_threshold=3.5, top_n=10)\n",
    "        \n",
    "        if recomendaciones:\n",
    "            print(f\"\\n=== Recomendaciones para el usuario {user_id} (rating >= 3.5) ===\")\n",
    "            for rec in recomendaciones:\n",
    "                print(f\"{rec['title']} (Valoración promedio: {rec['avg_rating']:.2f})\")\n",
    "        else:\n",
    "            print(\"No se encontraron recomendaciones para este usuario o el usuario no existe.\")\n",
    "    \n",
    "    elif opcion == \"2\":\n",
    "        # Búsqueda personalizada\n",
    "        print(\"Puedes dejar cualquier campo en blanco para omitirlo.\")\n",
    "        \n",
    "        genre = input(\"Género: \").strip()\n",
    "        year_input = input(\"Año (± 2): \").strip()\n",
    "        duration_input = input(\"Duración aproximada (en minutos): \").strip()\n",
    "        keywords = input(\"Palabras clave (en la columna 'Keywords'): \").strip()\n",
    "        company = input(\"Compañía/Estudio : \").strip()\n",
    "        director = input(\"Director : \").strip()\n",
    "        \n",
    "        # Validamos si year y duration son dígitos\n",
    "        year = None\n",
    "        if year_input:\n",
    "            if year_input.isdigit():\n",
    "                year = int(year_input)\n",
    "            else:\n",
    "                print(\"Aviso: El año ingresado no es un número. Se ignorará el filtro de año.\")\n",
    "        \n",
    "        duration = None\n",
    "        if duration_input:\n",
    "            if duration_input.isdigit():\n",
    "                duration = int(duration_input)\n",
    "            else:\n",
    "                print(\"Aviso: La duración ingresada no es un número. Se ignorará el filtro de duración.\")\n",
    "        \n",
    "        resultados = search_movies(\n",
    "            genre=genre if genre else None,\n",
    "            year=year,\n",
    "            duration=duration,\n",
    "            keywords=keywords if keywords else None,\n",
    "            company=company if company else None,\n",
    "            director=director if director else None,\n",
    "            top_n=10\n",
    "        )\n",
    "        \n",
    "        if resultados:\n",
    "            print(\"\\n=== Resultados de búsqueda ===\")\n",
    "            for r in resultados:\n",
    "                print(f\"{r['title']} (Año: {r['year']}, Duración: {r['duration']} min)\")\n",
    "        else:\n",
    "            print(\"No se encontraron películas que cumplan los criterios (o no existen en la BD).\")\n",
    "    \n",
    "    else:\n",
    "        print(\"Opción no válida.\")\n"
   ]
  },
  {
   "cell_type": "code",
   "execution_count": 83,
   "metadata": {},
   "outputs": [
    {
     "name": "stdout",
     "output_type": "stream",
     "text": [
      "Bienvenido al sistema de recomendación de películas.\n",
      "1) Recomendación por usuario (basada en amigos).\n",
      "2) Búsqueda personalizada (género, año ± 2, duración ± 30, palabras clave, compañía, director).\n"
     ]
    },
    {
     "name": "stdin",
     "output_type": "stream",
     "text": [
      "Elige una opción (1/2):  2\n"
     ]
    },
    {
     "name": "stdout",
     "output_type": "stream",
     "text": [
      "Puedes dejar cualquier campo en blanco para omitirlo.\n"
     ]
    },
    {
     "name": "stdin",
     "output_type": "stream",
     "text": [
      "Género:  Comedy\n",
      "Año (± 2):  1995\n",
      "Duración aproximada (en minutos):  90\n",
      "Palabras clave (en la columna 'Keywords'):  Friends, toys\n",
      "Compañía/Estudio :  Pixar\n",
      "Director :  \n"
     ]
    },
    {
     "name": "stdout",
     "output_type": "stream",
     "text": [
      "\n",
      "=== Resultados de búsqueda ===\n",
      "War Stories Our Mother Never Told Us (Año: None, Duración: 95.0 min)\n",
      "Vermont Is for Lovers (Año: None, Duración: 88.0 min)\n",
      "Jails, Hospitals & Hip-Hop (Año: None, Duración: 90.0 min)\n",
      "Boricua's Bond (Año: None, Duración: 105.0 min)\n",
      "Divine Intervention (Año: None, Duración: 87.0 min)\n",
      "Bling: A Planet Rock (Año: None, Duración: 90.0 min)\n",
      "Dead Ahead: The Exxon Valdez Disaster (Año: None, Duración: 0.0 min)\n",
      "Das Experiment 770 - Gebären auf Befehl (Año: None, Duración: 52.0 min)\n",
      "Connections (Año: None, Duración: 0.0 min)\n",
      "Human Failure (Año: None, Duración: 91.0 min)\n"
     ]
    }
   ],
   "source": [
    "if __name__ == \"__main__\":\n",
    "    try:\n",
    "        driver = GraphDatabase.driver(uri, auth=auth)\n",
    "        main()\n",
    "    except Exception as e:\n",
    "        print(f\"Ocurrió un error inesperado: {e}\")\n",
    "    finally:\n",
    "        driver.close()"
   ]
  },
  {
   "cell_type": "code",
   "execution_count": 43,
   "metadata": {},
   "outputs": [
    {
     "name": "stdout",
     "output_type": "stream",
     "text": [
      "BIENVENIDO AL RECOMENDADOR DE PELICULAS\n",
      "Ingresa tus gustos y preferencias a continuación:\n"
     ]
    },
    {
     "name": "stdin",
     "output_type": "stream",
     "text": [
      "Ingresa los géneros que te gustan, separados por comas:  comedy\n",
      "Ingresa la fecha de estreno que prefieres (formato YYYY-MM-DD):  1995-10-30\n",
      "Ingresa la duración mínima que prefieres para la película (en minutos):  90\n",
      "Ingresa palabras clave relacionadas con la película, separadas por comas:  friends, toys\n",
      "Ingresa el estudio de cine que prefieres:  Pixar\n",
      "Ingresa el nombre del director que te gustaría ver:  \n",
      "Ingresa los nombres de los actores que te gustan, separados por comas:  \n"
     ]
    },
    {
     "name": "stderr",
     "output_type": "stream",
     "text": [
      "Received notification from DBMS server: {severity: WARNING} {code: Neo.ClientNotification.Statement.UnknownPropertyKeyWarning} {category: UNRECOGNIZED} {title: The provided property key is not in the database} {description: One of the property names in your query is not available in the database, make sure you didn't misspell it or that the label is available when you run this statement in your application (the missing property name is: Keywords)} {position: line: 10, column: 22, offset: 329} for query: '\\nMATCH (m:Movie)<-[:ACTED_IN]-(a:Actor), \\n      (m)-[:IS_TYPE]->(g:Genre), \\n      (m)<-[:DIRECTED_BY]-(d:Director), \\n      (m)<-[:PRODUCED_BY]-(c:Company)\\nWHERE \\n    g.Name IN $genres AND\\n    m.Released >= $minYear AND m.Released <= $maxYear AND\\n    m.Runtime >= $minRuntime AND m.Runtime <= $maxRuntime AND\\n    any(keyword IN m.Keywords WHERE keyword IN $keywords) AND\\n    c.Name = $studio AND\\n    d.Name = $director \\nWITH m, collect(a.Name) AS actorNames\\nWHERE any(actor IN $actors WHERE actor IN actorNames)\\nRETURN m.Title AS Title, m.Released AS Released, m.Runtime AS Runtime\\nLIMIT 10\\n'\n"
     ]
    }
   ],
   "source": [
    "import datetime\n",
    "def menu():\n",
    "    print(\"BIENVENIDO AL RECOMENDADOR DE PELICULAS\")\n",
    "    print(\"Ingresa tus gustos y preferencias a continuación:\")\n",
    "\n",
    "\n",
    "def validar_fecha(fecha_texto):\n",
    "    try:\n",
    "        datetime.datetime.strptime(fecha_texto, \"%Y-%m-%d\")\n",
    "        return True\n",
    "    except ValueError:\n",
    "        return False\n",
    "\n",
    "def procesar_entrada_lista(entrada, capitalizar=False):\n",
    "    lista = entrada.split(',')\n",
    "    if capitalizar:\n",
    "        # Capitalizar la primera letra de cada palabra en cada elemento de la lista.\n",
    "        return [item.strip().title() for item in lista]\n",
    "    else:\n",
    "        return [item.strip() for item in lista]\n",
    "\n",
    "def variables_recomendacion():\n",
    "    genero = procesar_entrada_lista(input(\"Ingresa los géneros que te gustan, separados por comas: \"), True)\n",
    "    \n",
    "    while True:\n",
    "        released = input(\"Ingresa la fecha de estreno que prefieres (formato YYYY-MM-DD): \").strip()\n",
    "        if validar_fecha(released):\n",
    "            break\n",
    "        print(\"Formato de fecha incorrecto, por favor intenta de nuevo.\")\n",
    "    \n",
    "    while True:\n",
    "        duracion = input(\"Ingresa la duración mínima que prefieres para la película (en minutos): \").strip()\n",
    "        if duracion.isdigit():\n",
    "            duracion = int(duracion)\n",
    "            break\n",
    "        print(\"Por favor ingresa un número válido.\")\n",
    "    \n",
    "    keywords = procesar_entrada_lista(input(\"Ingresa palabras clave relacionadas con la película, separadas por comas: \"))\n",
    "    studio = input(\"Ingresa el estudio de cine que prefieres: \").strip().title()\n",
    "    director = input(\"Ingresa el nombre del director que te gustaría ver: \").strip().title()\n",
    "    actors = procesar_entrada_lista(input(\"Ingresa los nombres de los actores que te gustan, separados por comas: \"), True)\n",
    "\n",
    "    return genero, released, duracion, keywords, studio, director, actors\n",
    "\n",
    "\n",
    "#############################################\n",
    "\n",
    "def neo4j_connect(uri, auth):\n",
    "    driver = GraphDatabase.driver(uri, auth=auth)\n",
    "    return driver\n",
    "\n",
    "def get_movie_recommendations(driver, genero, released, duracion, keywords, studio, director, actors):\n",
    "    # Ajustar el rango de fecha\n",
    "    year = int(released.split(\"-\")[0])\n",
    "    min_year = year - 5\n",
    "    max_year = year + 5\n",
    "    \n",
    "    # Ajustar el rango de duración\n",
    "    min_runtime = duracion - 30\n",
    "    max_runtime = duracion + 30\n",
    "    \n",
    "    query = \"\"\"\n",
    "MATCH (m:Movie)<-[:ACTED_IN]-(a:Actor), \n",
    "      (m)-[:IS_TYPE]->(g:Genre), \n",
    "      (m)<-[:DIRECTED_BY]-(d:Director), \n",
    "      (m)<-[:PRODUCED_BY]-(c:Company)\n",
    "WHERE \n",
    "    g.Name IN $genres AND\n",
    "    m.Released >= $minYear AND m.Released <= $maxYear AND\n",
    "    m.Runtime >= $minRuntime AND m.Runtime <= $maxRuntime AND\n",
    "    any(keyword IN m.Keywords WHERE keyword IN $keywords) AND\n",
    "    c.Name = $studio AND\n",
    "    d.Name = $director \n",
    "WITH m, collect(a.Name) AS actorNames\n",
    "WHERE any(actor IN $actors WHERE actor IN actorNames)\n",
    "RETURN m.Title AS Title, m.Released AS Released, m.Runtime AS Runtime\n",
    "LIMIT 10\n",
    "\"\"\"\n",
    "\n",
    "    \n",
    "    with driver.session() as session:\n",
    "        result = session.run(query, {\n",
    "            'genres': genero,\n",
    "            'minYear': min_year,\n",
    "            'maxYear': max_year,\n",
    "            'minRuntime': min_runtime,\n",
    "            'maxRuntime': max_runtime,\n",
    "            'keywords': keywords,\n",
    "            'studio': studio,\n",
    "            'director': director,\n",
    "            'actors': actors\n",
    "        })\n",
    "        return list(result)\n",
    "\n",
    "# Conexión a Neo4j\n",
    "\n",
    "driver = neo4j_connect(uri, auth)\n",
    "\n",
    "################### MAIN\n",
    "\n",
    "menu()\n",
    "\n",
    "# Recoger inputs del usuario\n",
    "inputs = variables_recomendacion()\n",
    "genero, released, duracion, keywords, studio, director, actors = inputs\n",
    "\n",
    "# Obtener recomendaciones\n",
    "recommendations = get_movie_recommendations(driver, *inputs)\n",
    "\n",
    "#Imprimir recomendaciones\n",
    "for movie in recommendations:\n",
    "    print(movie['Title'], movie['Released'], movie['Runtime'])\n",
    "############################################\n",
    "\n"
   ]
  },
  {
   "cell_type": "code",
   "execution_count": null,
   "metadata": {},
   "outputs": [],
   "source": []
  }
 ],
 "metadata": {
  "kernelspec": {
   "display_name": "Python 3 (ipykernel)",
   "language": "python",
   "name": "python3"
  },
  "language_info": {
   "codemirror_mode": {
    "name": "ipython",
    "version": 3
   },
   "file_extension": ".py",
   "mimetype": "text/x-python",
   "name": "python",
   "nbconvert_exporter": "python",
   "pygments_lexer": "ipython3",
   "version": "3.13.2"
  }
 },
 "nbformat": 4,
 "nbformat_minor": 4
}
